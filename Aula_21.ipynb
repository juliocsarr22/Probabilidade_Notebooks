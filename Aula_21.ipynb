{
  "nbformat": 4,
  "nbformat_minor": 0,
  "metadata": {
    "colab": {
      "name": "Aula_21.ipynb",
      "version": "0.3.2",
      "provenance": [],
      "collapsed_sections": []
    },
    "language_info": {
      "codemirror_mode": {
        "name": "ipython",
        "version": 3
      },
      "file_extension": ".py",
      "mimetype": "text/x-python",
      "name": "python",
      "nbconvert_exporter": "python",
      "pygments_lexer": "ipython3",
      "version": "3.7.1"
    },
    "kernelspec": {
      "display_name": "Python 3",
      "language": "python",
      "name": "python3"
    }
  },
  "cells": [
    {
      "cell_type": "markdown",
      "metadata": {
        "id": "Q1Gby7nhOdC8",
        "colab_type": "text"
      },
      "source": [
        "# 1 - Introduction\n"
      ]
    },
    {
      "cell_type": "markdown",
      "metadata": {
        "id": "uDO1rYbBOtqh",
        "colab_type": "text"
      },
      "source": [
        "\n",
        "\n",
        "\n",
        "In this lesson, we'll be calculating statistics using data from the National Basketball Association (NBA). Here are the first few rows of the CSV file we'll explore:\n",
        "\n",
        "| | player | pos           | age | bref_team_id | g   | gs | mp | fg   | fga | fg.  | ...   | drb | trb | ast | stl | blk | tov | pf  | pts | season | season_end |     \n",
        "|--------|---------------|-----|--------------|-----|----|----|------|-----|------|-------|-----|-----|-----|-----|-----|-----|-----|-----|--------|------------|------|\n",
        "| 0      | Quincy Acy    | SF  | 23           | TOT | 63 | 0  | 847  | 66  | 141  | 0.468 | ... | 144 | 216 | 28  | 23  | 26  | 30  | 122 | 171    | 2013-2014  | 2013 |\n",
        "| 1      | Steven Adams  | C   | 20           | OKC | 81 | 20 | 1197 | 93  | 185  | 0.503 | ... | 190 | 332 | 43  | 40  | 57  | 71  | 203 | 265    | 2013-2014  | 2013 |\n",
        "| 2      | Jeff Adrien   | PF  | 27           | TOT | 53 | 12 | 961  | 143 | 275  | 0.520 | ... | 204 | 306 | 38  | 24  | 36  | 39  | 108 | 362    | 2013-2014  | 2013 |\n",
        "| 3      | Arron Afflalo | SG  | 28           | ORL | 73 | 73 | 2552 | 464 | 1011 | 0.459 | ... | 230 | 262 | 248 | 35  | 3   | 146 | 136 | 1330   | 2013-2014  | 2013 |\n",
        "| 4      | Alexis Ajinca | C   | 25           | NOP | 56 | 30 | 951  | 136 | 249  | 0.546 | ... | 183 | 277 | 40  | 23  | 46  | 63  | 187 | 328    | 2013-2014  | 2013 |\n",
        "\n",
        "\n",
        "Each row holds data on a single player for a single season. It contains the player's team, the total number of points the player scored, and other information.\n",
        "\n",
        "A full glossary can be find [here](http://stats.nba.com/help/glossary/).\n",
        "\n",
        "| column_name  | name                          | \n",
        "|--------------|-------------------------------|\n",
        "| player       | Player                        | \n",
        "| pos          | Position                      |\n",
        "| age          | Age                           | \n",
        "| bref_team_id | Team ID                       |\n",
        "| g            | Games Played                  | \n",
        "| gs           | Games Started                 | \n",
        "| mp           | Minutes Per Game              | \n",
        "| fg           | Field Goals Made Per Game     | \n",
        "| fga          | Field Goal Attempts Per Game  | \n",
        "| fg.          | Field Goal %                  | \n",
        "| x3p          | 3PT Shots Made Per Game       | \n",
        "| x3pa         | 3PT Shot Attempts Per Game    | \n",
        "| x3p.         | 3PT %                         | \n",
        "| x2p          | 2PT Shots Made Per Game       | \n",
        "| x2pa         | 2PT Shot Attemps Per Game     | \n",
        "| x2p.         | 2PT Shot %                    | \n",
        "| ft           | Free Throws Made Per Game     |\n",
        "| fta          | Free Throw Attempts Per Game  | \n",
        "| ft.          | Free Throw %                  | \n",
        "| orb          | Offensive Rebounds Per Game   | \n",
        "| drb          | Defensive Rebounds Per Game   | \n",
        "| trb          | Total Rebounds Per Game       | \n",
        "| ast          | Assists Per Game              | \n",
        "| stl          | Steals Per Game               | \n",
        "| blk          | Blocks Per Game               | \n",
        "| tov          | Turnovers Per Game            | \n",
        "| pf           | Personal Fouls Per Game       |\n",
        "| pts          | Points Per Game               | \n"
      ]
    },
    {
      "cell_type": "code",
      "metadata": {
        "id": "gCpl-LlWOdC9",
        "colab_type": "code",
        "outputId": "b8d7c3fa-71fa-41a4-85bb-b6634ba4802b",
        "colab": {
          "base_uri": "https://localhost:8080/",
          "height": 309
        }
      },
      "source": [
        "import pandas as pd\n",
        "\n",
        "nba = pd.read_csv('nba_2013.csv')\n",
        "nba.head()"
      ],
      "execution_count": 1,
      "outputs": [
        {
          "output_type": "execute_result",
          "data": {
            "text/html": [
              "<div>\n",
              "<style scoped>\n",
              "    .dataframe tbody tr th:only-of-type {\n",
              "        vertical-align: middle;\n",
              "    }\n",
              "\n",
              "    .dataframe tbody tr th {\n",
              "        vertical-align: top;\n",
              "    }\n",
              "\n",
              "    .dataframe thead th {\n",
              "        text-align: right;\n",
              "    }\n",
              "</style>\n",
              "<table border=\"1\" class=\"dataframe\">\n",
              "  <thead>\n",
              "    <tr style=\"text-align: right;\">\n",
              "      <th></th>\n",
              "      <th>player</th>\n",
              "      <th>pos</th>\n",
              "      <th>age</th>\n",
              "      <th>bref_team_id</th>\n",
              "      <th>g</th>\n",
              "      <th>gs</th>\n",
              "      <th>mp</th>\n",
              "      <th>fg</th>\n",
              "      <th>fga</th>\n",
              "      <th>fg.</th>\n",
              "      <th>x3p</th>\n",
              "      <th>x3pa</th>\n",
              "      <th>x3p.</th>\n",
              "      <th>x2p</th>\n",
              "      <th>x2pa</th>\n",
              "      <th>x2p.</th>\n",
              "      <th>efg.</th>\n",
              "      <th>ft</th>\n",
              "      <th>fta</th>\n",
              "      <th>ft.</th>\n",
              "      <th>orb</th>\n",
              "      <th>drb</th>\n",
              "      <th>trb</th>\n",
              "      <th>ast</th>\n",
              "      <th>stl</th>\n",
              "      <th>blk</th>\n",
              "      <th>tov</th>\n",
              "      <th>pf</th>\n",
              "      <th>pts</th>\n",
              "      <th>season</th>\n",
              "      <th>season_end</th>\n",
              "    </tr>\n",
              "  </thead>\n",
              "  <tbody>\n",
              "    <tr>\n",
              "      <th>0</th>\n",
              "      <td>Quincy Acy</td>\n",
              "      <td>SF</td>\n",
              "      <td>23</td>\n",
              "      <td>TOT</td>\n",
              "      <td>63</td>\n",
              "      <td>0</td>\n",
              "      <td>847</td>\n",
              "      <td>66</td>\n",
              "      <td>141</td>\n",
              "      <td>0.468</td>\n",
              "      <td>4</td>\n",
              "      <td>15</td>\n",
              "      <td>0.266667</td>\n",
              "      <td>62</td>\n",
              "      <td>126</td>\n",
              "      <td>0.492063</td>\n",
              "      <td>0.482</td>\n",
              "      <td>35</td>\n",
              "      <td>53</td>\n",
              "      <td>0.660</td>\n",
              "      <td>72</td>\n",
              "      <td>144</td>\n",
              "      <td>216</td>\n",
              "      <td>28</td>\n",
              "      <td>23</td>\n",
              "      <td>26</td>\n",
              "      <td>30</td>\n",
              "      <td>122</td>\n",
              "      <td>171</td>\n",
              "      <td>2013-2014</td>\n",
              "      <td>2013</td>\n",
              "    </tr>\n",
              "    <tr>\n",
              "      <th>1</th>\n",
              "      <td>Steven Adams</td>\n",
              "      <td>C</td>\n",
              "      <td>20</td>\n",
              "      <td>OKC</td>\n",
              "      <td>81</td>\n",
              "      <td>20</td>\n",
              "      <td>1197</td>\n",
              "      <td>93</td>\n",
              "      <td>185</td>\n",
              "      <td>0.503</td>\n",
              "      <td>0</td>\n",
              "      <td>0</td>\n",
              "      <td>NaN</td>\n",
              "      <td>93</td>\n",
              "      <td>185</td>\n",
              "      <td>0.502703</td>\n",
              "      <td>0.503</td>\n",
              "      <td>79</td>\n",
              "      <td>136</td>\n",
              "      <td>0.581</td>\n",
              "      <td>142</td>\n",
              "      <td>190</td>\n",
              "      <td>332</td>\n",
              "      <td>43</td>\n",
              "      <td>40</td>\n",
              "      <td>57</td>\n",
              "      <td>71</td>\n",
              "      <td>203</td>\n",
              "      <td>265</td>\n",
              "      <td>2013-2014</td>\n",
              "      <td>2013</td>\n",
              "    </tr>\n",
              "    <tr>\n",
              "      <th>2</th>\n",
              "      <td>Jeff Adrien</td>\n",
              "      <td>PF</td>\n",
              "      <td>27</td>\n",
              "      <td>TOT</td>\n",
              "      <td>53</td>\n",
              "      <td>12</td>\n",
              "      <td>961</td>\n",
              "      <td>143</td>\n",
              "      <td>275</td>\n",
              "      <td>0.520</td>\n",
              "      <td>0</td>\n",
              "      <td>0</td>\n",
              "      <td>NaN</td>\n",
              "      <td>143</td>\n",
              "      <td>275</td>\n",
              "      <td>0.520000</td>\n",
              "      <td>0.520</td>\n",
              "      <td>76</td>\n",
              "      <td>119</td>\n",
              "      <td>0.639</td>\n",
              "      <td>102</td>\n",
              "      <td>204</td>\n",
              "      <td>306</td>\n",
              "      <td>38</td>\n",
              "      <td>24</td>\n",
              "      <td>36</td>\n",
              "      <td>39</td>\n",
              "      <td>108</td>\n",
              "      <td>362</td>\n",
              "      <td>2013-2014</td>\n",
              "      <td>2013</td>\n",
              "    </tr>\n",
              "    <tr>\n",
              "      <th>3</th>\n",
              "      <td>Arron Afflalo</td>\n",
              "      <td>SG</td>\n",
              "      <td>28</td>\n",
              "      <td>ORL</td>\n",
              "      <td>73</td>\n",
              "      <td>73</td>\n",
              "      <td>2552</td>\n",
              "      <td>464</td>\n",
              "      <td>1011</td>\n",
              "      <td>0.459</td>\n",
              "      <td>128</td>\n",
              "      <td>300</td>\n",
              "      <td>0.426667</td>\n",
              "      <td>336</td>\n",
              "      <td>711</td>\n",
              "      <td>0.472574</td>\n",
              "      <td>0.522</td>\n",
              "      <td>274</td>\n",
              "      <td>336</td>\n",
              "      <td>0.815</td>\n",
              "      <td>32</td>\n",
              "      <td>230</td>\n",
              "      <td>262</td>\n",
              "      <td>248</td>\n",
              "      <td>35</td>\n",
              "      <td>3</td>\n",
              "      <td>146</td>\n",
              "      <td>136</td>\n",
              "      <td>1330</td>\n",
              "      <td>2013-2014</td>\n",
              "      <td>2013</td>\n",
              "    </tr>\n",
              "    <tr>\n",
              "      <th>4</th>\n",
              "      <td>Alexis Ajinca</td>\n",
              "      <td>C</td>\n",
              "      <td>25</td>\n",
              "      <td>NOP</td>\n",
              "      <td>56</td>\n",
              "      <td>30</td>\n",
              "      <td>951</td>\n",
              "      <td>136</td>\n",
              "      <td>249</td>\n",
              "      <td>0.546</td>\n",
              "      <td>0</td>\n",
              "      <td>1</td>\n",
              "      <td>0.000000</td>\n",
              "      <td>136</td>\n",
              "      <td>248</td>\n",
              "      <td>0.548387</td>\n",
              "      <td>0.546</td>\n",
              "      <td>56</td>\n",
              "      <td>67</td>\n",
              "      <td>0.836</td>\n",
              "      <td>94</td>\n",
              "      <td>183</td>\n",
              "      <td>277</td>\n",
              "      <td>40</td>\n",
              "      <td>23</td>\n",
              "      <td>46</td>\n",
              "      <td>63</td>\n",
              "      <td>187</td>\n",
              "      <td>328</td>\n",
              "      <td>2013-2014</td>\n",
              "      <td>2013</td>\n",
              "    </tr>\n",
              "  </tbody>\n",
              "</table>\n",
              "</div>"
            ],
            "text/plain": [
              "          player pos  age bref_team_id  ...   pf   pts     season  season_end\n",
              "0     Quincy Acy  SF   23          TOT  ...  122   171  2013-2014        2013\n",
              "1   Steven Adams   C   20          OKC  ...  203   265  2013-2014        2013\n",
              "2    Jeff Adrien  PF   27          TOT  ...  108   362  2013-2014        2013\n",
              "3  Arron Afflalo  SG   28          ORL  ...  136  1330  2013-2014        2013\n",
              "4  Alexis Ajinca   C   25          NOP  ...  187   328  2013-2014        2013\n",
              "\n",
              "[5 rows x 31 columns]"
            ]
          },
          "metadata": {
            "tags": []
          },
          "execution_count": 1
        }
      ]
    },
    {
      "cell_type": "markdown",
      "metadata": {
        "id": "c5BqXZQ6OdDB",
        "colab_type": "text"
      },
      "source": [
        "# 2 - Using Scatterplots to Plot Correlations\n"
      ]
    },
    {
      "cell_type": "markdown",
      "metadata": {
        "id": "Yz3yJqdNOzOD",
        "colab_type": "text"
      },
      "source": [
        "\n",
        "\n",
        "We've spent a lot of time looking at single variables and how their distributions look. While distributions are interesting on their own, it can also be revealing to look at how two variables correlate with each other.\n",
        "\n",
        "Much of statistics deals with analyzing how variables impact each other, and the first step is to graph them out with a scatterplot.\n",
        "\n",
        "While graphing them out, we can look at correlation. If two variables change together (ie, when one goes up, the other goes up), we know that they are correlated."
      ]
    },
    {
      "cell_type": "code",
      "metadata": {
        "scrolled": true,
        "id": "SZQW4fI6OdDB",
        "colab_type": "code",
        "outputId": "b3a012ca-841d-4068-a4e8-a72d24d0e41f",
        "colab": {
          "base_uri": "https://localhost:8080/",
          "height": 283
        }
      },
      "source": [
        "import seaborn as sns\n",
        "import matplotlib.pyplot as plt\n",
        "import numpy as np\n",
        "\n",
        "# Plot field goals attempted (number of shots someone takes in a season) vs. point scored in a season.\n",
        "# Field goals attempted is on the x-axis, and points is on the y-axis.\n",
        "# As you can tell, they are very strongly correlated. The plot is close to a straight line.\n",
        "# The plot also slopes upward, which means that as field goal attempts go up, so do points.\n",
        "# That means that the plot is positively correlated.\n",
        "\n",
        "sns.regplot(x=nba['fga'], y=nba['pts'],fit_reg=False)\n",
        "plt.show()"
      ],
      "execution_count": 25,
      "outputs": [
        {
          "output_type": "display_data",
          "data": {
            "image/png": "[encoded data removed]",
            "text/plain": [
              "<Figure size 432x288 with 1 Axes>"
            ]
          },
          "metadata": {
            "tags": []
          }
        }
      ]
    },
    {
      "cell_type": "code",
      "metadata": {
        "id": "gD5WPSpoOdDE",
        "colab_type": "code",
        "outputId": "f6d2af98-900d-44a1-e4eb-699ed3d87e6f",
        "colab": {
          "base_uri": "https://localhost:8080/",
          "height": 283
        }
      },
      "source": [
        "# Now, we can plot total rebounds (number of times someone got the ball back\n",
        "# for their team after someone shot) vs total assists (number of times someone helped another person score).\n",
        "# These are uncorrelated, so you don't see the same nice line as you see with the plot above.\n",
        "\n",
        "sns.regplot(nba[\"trb\"], nba[\"ast\"],fit_reg=False)\n",
        "plt.show()"
      ],
      "execution_count": 3,
      "outputs": [
        {
          "output_type": "display_data",
          "data": {
            "image/png": "[encoded data removed]",
            "text/plain": [
              "<Figure size 432x288 with 1 Axes>"
            ]
          },
          "metadata": {
            "tags": []
          }
        }
      ]
    },
    {
      "cell_type": "markdown",
      "metadata": {
        "id": "b3UHtF6fOdDG",
        "colab_type": "text"
      },
      "source": [
        "**Exercise**\n",
        "\n",
        "<img width=\"100\" src=\"https://drive.google.com/uc?export=view&id=1E8tR7B9YYUXsU_rddJAyq0FrM0MSelxZ\">\n",
        "\n",
        "**Description**:\n",
        "\n",
        "1. Make a scatterplot of the **fta** (free throws attempted) column against the **pts** column.\n",
        "2. Make a scatterplot of the **stl** (steals) column against the **pf** column.\n"
      ]
    },
    {
      "cell_type": "code",
      "metadata": {
        "id": "fUcHH_aARzbS",
        "colab_type": "code",
        "colab": {
          "base_uri": "https://localhost:8080/",
          "height": 283
        },
        "outputId": "1c6be11e-2819-4661-f01c-23719f93d2c7"
      },
      "source": [
        "sns.regplot(x=nba[\"fta\"], y=nba[\"pts\"],fit_reg=False)\n",
        "plt.show()"
      ],
      "execution_count": 5,
      "outputs": [
        {
          "output_type": "display_data",
          "data": {
            "image/png": "[encoded data removed]",
            "text/plain": [
              "<Figure size 432x288 with 1 Axes>"
            ]
          },
          "metadata": {
            "tags": []
          }
        }
      ]
    },
    {
      "cell_type": "code",
      "metadata": {
        "id": "EmMCUU3O05Hl",
        "colab_type": "code",
        "colab": {
          "base_uri": "https://localhost:8080/",
          "height": 283
        },
        "outputId": "d2a172c5-6a86-4864-9daf-01968a6b282e"
      },
      "source": [
        "sns.regplot(x=nba[\"stl\"], y=nba[\"pf\"],fit_reg=False)\n",
        "plt.show()"
      ],
      "execution_count": 6,
      "outputs": [
        {
          "output_type": "display_data",
          "data": {
            "image/png": "[encoded data removed]",
            "text/plain": [
              "<Figure size 432x288 with 1 Axes>"
            ]
          },
          "metadata": {
            "tags": []
          }
        }
      ]
    },
    {
      "cell_type": "markdown",
      "metadata": {
        "id": "9RYINDjdOdDG",
        "colab_type": "text"
      },
      "source": [
        "# 3 - Measuring Correlation with Pearson's r\n"
      ]
    },
    {
      "cell_type": "markdown",
      "metadata": {
        "id": "APA_ZUuDR-NZ",
        "colab_type": "text"
      },
      "source": [
        "\n",
        "\n",
        "Measuring correlation can be a big help when we need to analyze a lot of variables. This spares us from having to eyeball everything.\n",
        "\n",
        "The most common way to measure correlation is to use **Pearson's r**, which we also call an **r-value**. We'll explore how the calculations work later. For now, though, we'll focus on the values. An **r-value** ranges from -1 to 1, and indicates how strongly two variables are correlated.\n",
        "\n",
        "- A 1 indicates a perfect positive correlation. This would appear as a straight, upward-sloping line on our plots.\n",
        "- A 0 indicates no correlation. We'd see a scatterplot with points that appear random.\n",
        "- A -1 indicates a perfect negative correlation. This would appear as a straight, downward-sloping line.\n",
        "\n",
        "Any correlation between -1 and 0 will show up as a scattering of points. The same is true of correlations falling between 0 and 1. The closer the value is to 0, the more random the points will appear. The closer it is to -1 or 1, the more \"line-like\" the points will appear.\n",
        "\n",
        "<img width=\"500\" src=\"https://drive.google.com/uc?export=view&id=1N4P-vr_-vRITIp91I3t3xWikggku5HvB\">\n",
        "\n",
        "We can use a function from scipy to calculate Pearson's r."
      ]
    },
    {
      "cell_type": "code",
      "metadata": {
        "id": "ExgQYF-ZOdDH",
        "colab_type": "code",
        "outputId": "fe3ef260-b3b6-4021-8f60-397e5588dc36",
        "colab": {
          "base_uri": "https://localhost:8080/",
          "height": 51
        }
      },
      "source": [
        "from scipy.stats.stats import pearsonr\n",
        "\n",
        "# The pearsonr function will find the correlation between two columns of data.\n",
        "# It returns the r value and the p value.  We'll learn more about p values later on.\n",
        "r, p_value = pearsonr(nba[\"fga\"], nba[\"pts\"])\n",
        "\n",
        "# As we can see, this is a very high positive r value - it's close to 1.\n",
        "print(r,p_value)\n",
        "\n",
        "# These two columns are much less correlated.\n",
        "r, p_value = pearsonr(nba[\"trb\"], nba[\"ast\"])\n",
        "\n",
        "# We get a much lower, but still positive, r value.\n",
        "print(r,p_value)"
      ],
      "execution_count": 8,
      "outputs": [
        {
          "output_type": "stream",
          "text": [
            "0.9892114006521624 0.0\n",
            "0.3698617312483286 4.863499550519059e-17\n"
          ],
          "name": "stdout"
        }
      ]
    },
    {
      "cell_type": "code",
      "metadata": {
        "id": "Ns8KAjw8OdDJ",
        "colab_type": "code",
        "outputId": "b34b43f8-2701-4753-bc9a-6f6a7fac77f1",
        "colab": {
          "base_uri": "https://localhost:8080/",
          "height": 933
        }
      },
      "source": [
        "# Draw a plot of two variables with bivariate and univariate graphs.\n",
        "sns.jointplot(x=\"fga\", y=\"pts\", data=nba, stat_func=pearsonr)\n",
        "sns.jointplot(x=\"trb\", y=\"ast\", data=nba, stat_func=pearsonr)\n",
        "\n",
        "plt.show()"
      ],
      "execution_count": 9,
      "outputs": [
        {
          "output_type": "stream",
          "text": [
            "/usr/local/lib/python3.6/dist-packages/seaborn/axisgrid.py:1847: UserWarning: JointGrid annotation is deprecated and will be removed in a future release.\n",
            "  warnings.warn(UserWarning(msg))\n",
            "/usr/local/lib/python3.6/dist-packages/seaborn/axisgrid.py:1847: UserWarning: JointGrid annotation is deprecated and will be removed in a future release.\n",
            "  warnings.warn(UserWarning(msg))\n"
          ],
          "name": "stderr"
        },
        {
          "output_type": "display_data",
          "data": {
            "image/png": "[encoded data removed]",
            "text/plain": [
              "<Figure size 432x432 with 3 Axes>"
            ]
          },
          "metadata": {
            "tags": []
          }
        },
        {
          "output_type": "display_data",
          "data": {
            "image/png": "[encoded data removed]",
            "text/plain": [
              "<Figure size 432x432 with 3 Axes>"
            ]
          },
          "metadata": {
            "tags": []
          }
        }
      ]
    },
    {
      "cell_type": "markdown",
      "metadata": {
        "id": "cSytGkukOdDL",
        "colab_type": "text"
      },
      "source": [
        "**Exercise**\n",
        "\n",
        "<img width=\"100\" src=\"https://drive.google.com/uc?export=view&id=1E8tR7B9YYUXsU_rddJAyq0FrM0MSelxZ\">\n",
        "\n",
        "\n",
        "**Description**:\n",
        "\n",
        "1. Find the correlation between the **fta** column and the **pts** column. Assign the result to **r_fta_pts**.\n",
        "2. Find the correlation between the **stl** column and the **pf** column. Assign the result to **r_stl_pf**."
      ]
    },
    {
      "cell_type": "code",
      "metadata": {
        "id": "WuQFC15hX_em",
        "colab_type": "code",
        "colab": {}
      },
      "source": [
        "r_fta_pts, p_value = pearsonr(nba[\"fta\"], nba[\"pts\"])\n",
        "r_stl_pf, p_value = pearsonr(nba[\"stl\"], nba[\"pf\"])"
      ],
      "execution_count": 0,
      "outputs": []
    },
    {
      "cell_type": "code",
      "metadata": {
        "id": "YGGEJdr41UBO",
        "colab_type": "code",
        "colab": {}
      },
      "source": [
        "sns.jointplot(x=\"stl\", y=\"pf\", data=nba, stat_func=pearsonr)\n",
        "sns.jointplot(x=\"fta\", y=\"pts\", data=nba, stat_func=pearsonr)\n",
        "plt.show()"
      ],
      "execution_count": 0,
      "outputs": []
    },
    {
      "cell_type": "markdown",
      "metadata": {
        "id": "1yTGJc9POdDN",
        "colab_type": "text"
      },
      "source": [
        "# 4 - Calculate Covariance\n"
      ]
    },
    {
      "cell_type": "markdown",
      "metadata": {
        "id": "QgQcHE1Udh0p",
        "colab_type": "text"
      },
      "source": [
        "\n",
        "\n",
        "We looked at finding the correlation coefficient with a function. Now, let's take a brief look under the hood to see how we can do it ourselves.\n",
        "\n",
        "Another way to think of correlation is in terms of **variance**. Two variables are correlated when they both vary individually, but in similar ways. For example, correlation occurs when if one variable goes up, another variable also goes up.\n",
        "\n",
        "This is called **covariance**. Covariance refers to how different numbers vary jointly.\n",
        "\n",
        "There's a limit to how much two variables can co-vary. This is because each variable has its own variance. These individual variances set a maximum theoretical limit on the covariance between two variables. In other words, a set of variables can't co-vary more from the mean than the two variables individually vary from the mean.\n",
        "\n",
        "Two variables reach the maximum possible covariance when they vary in an identical way (ie, you see a straight line on the plot).\n",
        "\n",
        "The r-value is a ratio between the actual covariance and the maximum possible positive covariance.\n",
        "\n",
        "Let's look at actual covariance first. Mathematically speaking, covariance between two variables looks like this:\n",
        "\n",
        "$\\displaystyle cov(x,y) = \\frac{\\sum_{i=1}^{n} (x_i - \\mu_x)(y_i - \\mu_y)}{n}$\n",
        "\n",
        "For each element in the vectors x and y, we:\n",
        "\n",
        "1. Take the value at each position from 1 to the length of the vectors.\n",
        "2. Subtract the mean of the vector from those values.\n",
        "3. Multiply them together at each position, and all of the resulting values together.\n",
        "\n",
        "\n",
        "\n",
        "**Exercise**\n",
        "\n",
        "<img width=\"100\" src=\"https://drive.google.com/uc?export=view&id=1E8tR7B9YYUXsU_rddJAyq0FrM0MSelxZ\">\n",
        "\n",
        "**Description**:\n",
        "\n",
        "\n",
        "1. Make a function that calculates covariance.\n",
        "2. Use the function to calculate the covariance of the **stl** and **pf** columns. Assign the result to **cov_stl_pf**.\n",
        "3. Use the function to calculate the covariance of the **fta** and **pts** columns. Assign the result to **cov_fta_pts**."
      ]
    },
    {
      "cell_type": "code",
      "metadata": {
        "id": "mB84Ud5Md82b",
        "colab_type": "code",
        "colab": {}
      },
      "source": [
        "def cov(a, b):\n",
        "  x = 0\n",
        "  mean_a = a.mean()\n",
        "  mean_b = b.mean()\n",
        "  for i, value in enumerate(a):\n",
        "    x += (b.iloc[i] - mean_b)*(a.iloc[i] - mean_a)\n",
        "  return x/len(a)"
      ],
      "execution_count": 0,
      "outputs": []
    },
    {
      "cell_type": "code",
      "metadata": {
        "id": "0n13cCpp2FYo",
        "colab_type": "code",
        "colab": {
          "base_uri": "https://localhost:8080/",
          "height": 51
        },
        "outputId": "ad1ba3d7-6c22-4b67-cb73-ec5fb3f8946b"
      },
      "source": [
        "cov_stl_pf = cov(nba.stl, nba.pf)\n",
        "print(\"cov_stl_pf: \", str(cov_stl_pf))\n",
        "cov_fta_pts = cov(nba.fta, nba.pts)\n",
        "print(\"cov_fta_pts: \", str(cov_fta_pts))"
      ],
      "execution_count": 23,
      "outputs": [
        {
          "output_type": "stream",
          "text": [
            "cov_stl_pf:  1823.3548480513116\n",
            "cov_fta_pts:  56618.41398074862\n"
          ],
          "name": "stdout"
        }
      ]
    },
    {
      "cell_type": "markdown",
      "metadata": {
        "id": "HfyQ5jykOdDO",
        "colab_type": "text"
      },
      "source": [
        "# 5  - Calculate Correlation With the std() Method\n"
      ]
    },
    {
      "cell_type": "markdown",
      "metadata": {
        "id": "wX5otxnTqCxU",
        "colab_type": "text"
      },
      "source": [
        "\n",
        "Now that we know how to calculate covariance, we can get the **correlation coefficient** using the following formula:\n",
        "\n",
        "$\\displaystyle \\frac{cov(x,y)}{\\sigma_x \\sigma_y}$\n",
        "\n",
        "For the denominator, we need to multiply the standard deviations for x and y. This is the maximum possible positive covariance, which is just both of the standard deviation values multiplied. If we divide our actual covariance by this, we get the r-value.\n",
        "\n",
        "We can use the **std** method on any pandas [DataFrame](http://pandas.pydata.org/pandas-docs/stable/generated/pandas.DataFrame.std.html) or [Series](http://pandas.pydata.org/pandas-docs/stable/generated/pandas.Series.std.html) to calculate the standard deviation. The following code returns the standard deviation for the **pf** column:\n",
        "\n",
        "```python\n",
        "nba[\"pf\"].std()\n",
        "```\n",
        "\n",
        "We can use the cov function from NumPy to compute covariance, returning a 2x2 matrix. The following code returns the covariance between the **pf** and **stl** columns:\n",
        "\n",
        "```python\n",
        "# bias = True cov assume the population n\n",
        "# bias = False cov assume the population n-1\n",
        "np.cov(nba[\"pf\"], nba[\"stl\"], bias = True)\n",
        "\n",
        "array([[5060.83731485, 1823.35484805],\n",
        "       [1823.35484805, 1207.38276546]])\n",
        "```\n",
        "\n",
        "\n",
        "**Exercise**\n",
        "\n",
        "<img width=\"100\" src=\"https://drive.google.com/uc?export=view&id=1E8tR7B9YYUXsU_rddJAyq0FrM0MSelxZ\">\n",
        "\n",
        "**Description**:\n",
        "\n",
        "\n",
        "\n",
        "1. Compute the correlation coefficient for the **fta** and **blk** columns, and assign the result to **r_fta_blk**.\n",
        "2. Compute the correlation coefficient for the **ast** and **stl** columns, and assign the result to **r_ast_stl**.\n"
      ]
    },
    {
      "cell_type": "code",
      "metadata": {
        "id": "6DTaeAHttisu",
        "colab_type": "code",
        "colab": {
          "base_uri": "https://localhost:8080/",
          "height": 85
        },
        "outputId": "492d1bc6-5603-4300-b151-4d3d59121321"
      },
      "source": [
        "r_fta_blk = np.cov(nba.fta, nba.blk, bias = True)\n",
        "print(\"r_fta_blk: \" + str(r_fta_blk))\n",
        "r_ast_stl = np.cov(nba.fta, nba.blk, bias = True)\n",
        "print(\"r_ast_stl: \" + str(r_ast_stl))"
      ],
      "execution_count": 27,
      "outputs": [
        {
          "output_type": "stream",
          "text": [
            "r_fta_blk: [[17188.29624699  1844.17230648]\n",
            " [ 1844.17230648   951.30728169]]\n",
            "r_ast_stl: [[17188.29624699  1844.17230648]\n",
            " [ 1844.17230648   951.30728169]]\n"
          ],
          "name": "stdout"
        }
      ]
    }
  ]
}